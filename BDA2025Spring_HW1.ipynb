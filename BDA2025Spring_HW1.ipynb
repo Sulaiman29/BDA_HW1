{
  "cells": [
    {
      "cell_type": "markdown",
      "metadata": {
        "id": "view-in-github",
        "colab_type": "text"
      },
      "source": [
        "<a href=\"https://colab.research.google.com/github/Sulaiman29/BDA_HW1/blob/main/BDA2025Spring_HW1.ipynb\" target=\"_parent\"><img src=\"https://colab.research.google.com/assets/colab-badge.svg\" alt=\"Open In Colab\"/></a>"
      ]
    },
    {
      "cell_type": "markdown",
      "metadata": {
        "id": "vrqBoJqvgyEg"
      },
      "source": [
        "### <div class=\"alert alert-block alert-info\"><b></b>\n",
        "<h1><center> Homework 01</center></h1>\n",
        "<h2><center> Data Exploration and Customer Segmentation</center></h2>    \n",
        "<h2><center> MTAT.03.319 - Business Data Analytics</center></h2>\n",
        "<h2><center> University of Tartu - Spring 2025</center></h2>\n",
        "</div>"
      ]
    },
    {
      "cell_type": "markdown",
      "metadata": {
        "id": "DZq6fSwkTTtv"
      },
      "source": [
        "# Homework instructions\n",
        "\n",
        "- Please provide the names and student IDs of the team-members (Maximum 2 person) in the field \"Team mates\" below. If you are not working in a team please insert only your name and student ID.\n",
        "\n",
        "- Please provide code where ever applicable.\n",
        "\n",
        "- The accepted submission format is .ipynb file. Please make sure that the privacy settings for the file is public so we can access your code.\n",
        "\n",
        "- The submission will automatically close on <font color='red'>**16 March at 23:59**</font>, so please make sure to submit before the deadline.\n",
        "\n",
        "- ONLY one of the teammates should submit the homework and in the submission description the other person's Name and Student ID must be entered. We will grade the homework and the marks and feedback is applied for both the team members. So please communicate with your team member about marks and feedback if you are submit the homework.\n",
        "\n",
        "- If a question is not clear, please ask us in Moodle ONLY.\n",
        "\n",
        "- After you have finished solving the Homework, please restart the Kernel and run all the cells to check if there is any persisting issues.\n",
        "\n",
        "- Plagiarism is <font color='red'>**PROHIBITED**</font>. Any form of plagiarism will be dealt according to the university policy (https://ut.ee/en/content/academic-fraud).\n",
        "\n",
        "- <font color='red'>**DO NOT CHANGE THE TEMPLATE**</font>\n",
        "\n",
        "- <font color='red'>**Restart the Kernel and Run all the cells once again after you are done.**</font>\n",
        "This will ensure that all the cells run without error. You will find an option in the top menu bar under Kernel tab."
      ]
    },
    {
      "cell_type": "markdown",
      "metadata": {
        "id": "-ms6ZgYPTTty"
      },
      "source": [
        "**<h2><font color='red'>Team mates:</font></h2>**\n",
        "\n",
        "\n",
        "<font color='red'>Name: </font>Muhammad Sulaiman Javed &emsp; <font color='red'>Student ID: </font> ABC123456\n",
        "\n",
        "\n",
        "<font color='red'>Name: </font> &emsp; <font color='red'>Student ID: </font>\n",
        "\n",
        "\n"
      ]
    },
    {
      "cell_type": "code",
      "source": [
        "from google.colab import drive\n",
        "drive.mount('/content/drive')"
      ],
      "metadata": {
        "id": "7kZsk4v6cquV",
        "outputId": "fe489416-e96b-4f57-d3e0-f425a9a70c5a",
        "colab": {
          "base_uri": "https://localhost:8080/"
        }
      },
      "execution_count": 3,
      "outputs": [
        {
          "output_type": "stream",
          "name": "stdout",
          "text": [
            "Mounted at /content/drive\n"
          ]
        }
      ]
    },
    {
      "cell_type": "markdown",
      "metadata": {
        "id": "sCCZbDuZgyEj"
      },
      "source": [
        "# Introduction\n",
        "\n",
        "* In this homework you are going to use Python; specifically Pandas package which is a powerful and handy data analysis and manipulation tool, built on top of the Python programming language. In addition, there are questions related to clustering as well. The tasks are relevant to the tasks from the practice session. So, please make sure to go through the practise session carefully before you attempt to solve this homework.\n",
        "\n",
        "### The homework is divided into four sections and the points are distributed as below:\n",
        "<pre>\n",
        "- Python and Pandas    -> 1.5 points\n",
        "- Understanding data   -> 2.5 points\n",
        "- Data Preparation     -> 1.5 points\n",
        "- Exploring dataset    -> 2.0 points\n",
        "- Basic Clustering     -> 6.0 points\n",
        "_________________________________________\n",
        "Total                  -> 13.5 points\n",
        "</pre>"
      ]
    },
    {
      "cell_type": "markdown",
      "metadata": {
        "id": "wqOWh3hrgyEk"
      },
      "source": [
        "# 1. Python and Pandas (1.5 points)"
      ]
    },
    {
      "cell_type": "markdown",
      "metadata": {
        "id": "xOZOWT9xgyEl"
      },
      "source": [
        "First, let's import pandas package as pd and read data from the abalone CSV file into a pandas DataFrame."
      ]
    },
    {
      "cell_type": "code",
      "execution_count": 4,
      "metadata": {
        "id": "CuwdGoezgyEm"
      },
      "outputs": [],
      "source": [
        "import pandas as pd\n",
        "\n",
        "data = pd.read_csv('abalone.csv')"
      ]
    },
    {
      "cell_type": "code",
      "source": [
        "data"
      ],
      "metadata": {
        "id": "2xZifX3Ri6kH",
        "outputId": "498bb22c-eac5-4ae4-8a8a-d6a11f923bef",
        "colab": {
          "base_uri": "https://localhost:8080/",
          "height": 423
        }
      },
      "execution_count": 5,
      "outputs": [
        {
          "output_type": "execute_result",
          "data": {
            "text/plain": [
              "    Gender  Length  Diameter  Height  Weight  Rings\n",
              "0        F   0.505     0.385   0.135  0.6185     12\n",
              "1        F   0.650     0.475   0.165  1.3875      9\n",
              "2        I   0.520     0.380   0.135  0.5395      8\n",
              "3        F   0.550     0.425   0.140  0.9520      7\n",
              "4        M   0.640     0.525   0.180  1.3135     10\n",
              "..     ...     ...       ...     ...     ...    ...\n",
              "995      I   0.550     0.415   0.135  0.8095     12\n",
              "996      I   0.455     0.435   0.110  0.4265      8\n",
              "997      M   0.660     0.500   0.165  1.3195      9\n",
              "998      I   0.525     0.400   0.130  0.6455      8\n",
              "999      M   0.515     0.395   0.135  1.0070      8\n",
              "\n",
              "[1000 rows x 6 columns]"
            ],
            "text/html": [
              "\n",
              "  <div id=\"df-69c77dc0-2dae-4a9d-b133-1c5ab2e3048b\" class=\"colab-df-container\">\n",
              "    <div>\n",
              "<style scoped>\n",
              "    .dataframe tbody tr th:only-of-type {\n",
              "        vertical-align: middle;\n",
              "    }\n",
              "\n",
              "    .dataframe tbody tr th {\n",
              "        vertical-align: top;\n",
              "    }\n",
              "\n",
              "    .dataframe thead th {\n",
              "        text-align: right;\n",
              "    }\n",
              "</style>\n",
              "<table border=\"1\" class=\"dataframe\">\n",
              "  <thead>\n",
              "    <tr style=\"text-align: right;\">\n",
              "      <th></th>\n",
              "      <th>Gender</th>\n",
              "      <th>Length</th>\n",
              "      <th>Diameter</th>\n",
              "      <th>Height</th>\n",
              "      <th>Weight</th>\n",
              "      <th>Rings</th>\n",
              "    </tr>\n",
              "  </thead>\n",
              "  <tbody>\n",
              "    <tr>\n",
              "      <th>0</th>\n",
              "      <td>F</td>\n",
              "      <td>0.505</td>\n",
              "      <td>0.385</td>\n",
              "      <td>0.135</td>\n",
              "      <td>0.6185</td>\n",
              "      <td>12</td>\n",
              "    </tr>\n",
              "    <tr>\n",
              "      <th>1</th>\n",
              "      <td>F</td>\n",
              "      <td>0.650</td>\n",
              "      <td>0.475</td>\n",
              "      <td>0.165</td>\n",
              "      <td>1.3875</td>\n",
              "      <td>9</td>\n",
              "    </tr>\n",
              "    <tr>\n",
              "      <th>2</th>\n",
              "      <td>I</td>\n",
              "      <td>0.520</td>\n",
              "      <td>0.380</td>\n",
              "      <td>0.135</td>\n",
              "      <td>0.5395</td>\n",
              "      <td>8</td>\n",
              "    </tr>\n",
              "    <tr>\n",
              "      <th>3</th>\n",
              "      <td>F</td>\n",
              "      <td>0.550</td>\n",
              "      <td>0.425</td>\n",
              "      <td>0.140</td>\n",
              "      <td>0.9520</td>\n",
              "      <td>7</td>\n",
              "    </tr>\n",
              "    <tr>\n",
              "      <th>4</th>\n",
              "      <td>M</td>\n",
              "      <td>0.640</td>\n",
              "      <td>0.525</td>\n",
              "      <td>0.180</td>\n",
              "      <td>1.3135</td>\n",
              "      <td>10</td>\n",
              "    </tr>\n",
              "    <tr>\n",
              "      <th>...</th>\n",
              "      <td>...</td>\n",
              "      <td>...</td>\n",
              "      <td>...</td>\n",
              "      <td>...</td>\n",
              "      <td>...</td>\n",
              "      <td>...</td>\n",
              "    </tr>\n",
              "    <tr>\n",
              "      <th>995</th>\n",
              "      <td>I</td>\n",
              "      <td>0.550</td>\n",
              "      <td>0.415</td>\n",
              "      <td>0.135</td>\n",
              "      <td>0.8095</td>\n",
              "      <td>12</td>\n",
              "    </tr>\n",
              "    <tr>\n",
              "      <th>996</th>\n",
              "      <td>I</td>\n",
              "      <td>0.455</td>\n",
              "      <td>0.435</td>\n",
              "      <td>0.110</td>\n",
              "      <td>0.4265</td>\n",
              "      <td>8</td>\n",
              "    </tr>\n",
              "    <tr>\n",
              "      <th>997</th>\n",
              "      <td>M</td>\n",
              "      <td>0.660</td>\n",
              "      <td>0.500</td>\n",
              "      <td>0.165</td>\n",
              "      <td>1.3195</td>\n",
              "      <td>9</td>\n",
              "    </tr>\n",
              "    <tr>\n",
              "      <th>998</th>\n",
              "      <td>I</td>\n",
              "      <td>0.525</td>\n",
              "      <td>0.400</td>\n",
              "      <td>0.130</td>\n",
              "      <td>0.6455</td>\n",
              "      <td>8</td>\n",
              "    </tr>\n",
              "    <tr>\n",
              "      <th>999</th>\n",
              "      <td>M</td>\n",
              "      <td>0.515</td>\n",
              "      <td>0.395</td>\n",
              "      <td>0.135</td>\n",
              "      <td>1.0070</td>\n",
              "      <td>8</td>\n",
              "    </tr>\n",
              "  </tbody>\n",
              "</table>\n",
              "<p>1000 rows × 6 columns</p>\n",
              "</div>\n",
              "    <div class=\"colab-df-buttons\">\n",
              "\n",
              "  <div class=\"colab-df-container\">\n",
              "    <button class=\"colab-df-convert\" onclick=\"convertToInteractive('df-69c77dc0-2dae-4a9d-b133-1c5ab2e3048b')\"\n",
              "            title=\"Convert this dataframe to an interactive table.\"\n",
              "            style=\"display:none;\">\n",
              "\n",
              "  <svg xmlns=\"http://www.w3.org/2000/svg\" height=\"24px\" viewBox=\"0 -960 960 960\">\n",
              "    <path d=\"M120-120v-720h720v720H120Zm60-500h600v-160H180v160Zm220 220h160v-160H400v160Zm0 220h160v-160H400v160ZM180-400h160v-160H180v160Zm440 0h160v-160H620v160ZM180-180h160v-160H180v160Zm440 0h160v-160H620v160Z\"/>\n",
              "  </svg>\n",
              "    </button>\n",
              "\n",
              "  <style>\n",
              "    .colab-df-container {\n",
              "      display:flex;\n",
              "      gap: 12px;\n",
              "    }\n",
              "\n",
              "    .colab-df-convert {\n",
              "      background-color: #E8F0FE;\n",
              "      border: none;\n",
              "      border-radius: 50%;\n",
              "      cursor: pointer;\n",
              "      display: none;\n",
              "      fill: #1967D2;\n",
              "      height: 32px;\n",
              "      padding: 0 0 0 0;\n",
              "      width: 32px;\n",
              "    }\n",
              "\n",
              "    .colab-df-convert:hover {\n",
              "      background-color: #E2EBFA;\n",
              "      box-shadow: 0px 1px 2px rgba(60, 64, 67, 0.3), 0px 1px 3px 1px rgba(60, 64, 67, 0.15);\n",
              "      fill: #174EA6;\n",
              "    }\n",
              "\n",
              "    .colab-df-buttons div {\n",
              "      margin-bottom: 4px;\n",
              "    }\n",
              "\n",
              "    [theme=dark] .colab-df-convert {\n",
              "      background-color: #3B4455;\n",
              "      fill: #D2E3FC;\n",
              "    }\n",
              "\n",
              "    [theme=dark] .colab-df-convert:hover {\n",
              "      background-color: #434B5C;\n",
              "      box-shadow: 0px 1px 3px 1px rgba(0, 0, 0, 0.15);\n",
              "      filter: drop-shadow(0px 1px 2px rgba(0, 0, 0, 0.3));\n",
              "      fill: #FFFFFF;\n",
              "    }\n",
              "  </style>\n",
              "\n",
              "    <script>\n",
              "      const buttonEl =\n",
              "        document.querySelector('#df-69c77dc0-2dae-4a9d-b133-1c5ab2e3048b button.colab-df-convert');\n",
              "      buttonEl.style.display =\n",
              "        google.colab.kernel.accessAllowed ? 'block' : 'none';\n",
              "\n",
              "      async function convertToInteractive(key) {\n",
              "        const element = document.querySelector('#df-69c77dc0-2dae-4a9d-b133-1c5ab2e3048b');\n",
              "        const dataTable =\n",
              "          await google.colab.kernel.invokeFunction('convertToInteractive',\n",
              "                                                    [key], {});\n",
              "        if (!dataTable) return;\n",
              "\n",
              "        const docLinkHtml = 'Like what you see? Visit the ' +\n",
              "          '<a target=\"_blank\" href=https://colab.research.google.com/notebooks/data_table.ipynb>data table notebook</a>'\n",
              "          + ' to learn more about interactive tables.';\n",
              "        element.innerHTML = '';\n",
              "        dataTable['output_type'] = 'display_data';\n",
              "        await google.colab.output.renderOutput(dataTable, element);\n",
              "        const docLink = document.createElement('div');\n",
              "        docLink.innerHTML = docLinkHtml;\n",
              "        element.appendChild(docLink);\n",
              "      }\n",
              "    </script>\n",
              "  </div>\n",
              "\n",
              "\n",
              "<div id=\"df-db4a949f-6096-411b-a50e-9a8dbe904ac5\">\n",
              "  <button class=\"colab-df-quickchart\" onclick=\"quickchart('df-db4a949f-6096-411b-a50e-9a8dbe904ac5')\"\n",
              "            title=\"Suggest charts\"\n",
              "            style=\"display:none;\">\n",
              "\n",
              "<svg xmlns=\"http://www.w3.org/2000/svg\" height=\"24px\"viewBox=\"0 0 24 24\"\n",
              "     width=\"24px\">\n",
              "    <g>\n",
              "        <path d=\"M19 3H5c-1.1 0-2 .9-2 2v14c0 1.1.9 2 2 2h14c1.1 0 2-.9 2-2V5c0-1.1-.9-2-2-2zM9 17H7v-7h2v7zm4 0h-2V7h2v10zm4 0h-2v-4h2v4z\"/>\n",
              "    </g>\n",
              "</svg>\n",
              "  </button>\n",
              "\n",
              "<style>\n",
              "  .colab-df-quickchart {\n",
              "      --bg-color: #E8F0FE;\n",
              "      --fill-color: #1967D2;\n",
              "      --hover-bg-color: #E2EBFA;\n",
              "      --hover-fill-color: #174EA6;\n",
              "      --disabled-fill-color: #AAA;\n",
              "      --disabled-bg-color: #DDD;\n",
              "  }\n",
              "\n",
              "  [theme=dark] .colab-df-quickchart {\n",
              "      --bg-color: #3B4455;\n",
              "      --fill-color: #D2E3FC;\n",
              "      --hover-bg-color: #434B5C;\n",
              "      --hover-fill-color: #FFFFFF;\n",
              "      --disabled-bg-color: #3B4455;\n",
              "      --disabled-fill-color: #666;\n",
              "  }\n",
              "\n",
              "  .colab-df-quickchart {\n",
              "    background-color: var(--bg-color);\n",
              "    border: none;\n",
              "    border-radius: 50%;\n",
              "    cursor: pointer;\n",
              "    display: none;\n",
              "    fill: var(--fill-color);\n",
              "    height: 32px;\n",
              "    padding: 0;\n",
              "    width: 32px;\n",
              "  }\n",
              "\n",
              "  .colab-df-quickchart:hover {\n",
              "    background-color: var(--hover-bg-color);\n",
              "    box-shadow: 0 1px 2px rgba(60, 64, 67, 0.3), 0 1px 3px 1px rgba(60, 64, 67, 0.15);\n",
              "    fill: var(--button-hover-fill-color);\n",
              "  }\n",
              "\n",
              "  .colab-df-quickchart-complete:disabled,\n",
              "  .colab-df-quickchart-complete:disabled:hover {\n",
              "    background-color: var(--disabled-bg-color);\n",
              "    fill: var(--disabled-fill-color);\n",
              "    box-shadow: none;\n",
              "  }\n",
              "\n",
              "  .colab-df-spinner {\n",
              "    border: 2px solid var(--fill-color);\n",
              "    border-color: transparent;\n",
              "    border-bottom-color: var(--fill-color);\n",
              "    animation:\n",
              "      spin 1s steps(1) infinite;\n",
              "  }\n",
              "\n",
              "  @keyframes spin {\n",
              "    0% {\n",
              "      border-color: transparent;\n",
              "      border-bottom-color: var(--fill-color);\n",
              "      border-left-color: var(--fill-color);\n",
              "    }\n",
              "    20% {\n",
              "      border-color: transparent;\n",
              "      border-left-color: var(--fill-color);\n",
              "      border-top-color: var(--fill-color);\n",
              "    }\n",
              "    30% {\n",
              "      border-color: transparent;\n",
              "      border-left-color: var(--fill-color);\n",
              "      border-top-color: var(--fill-color);\n",
              "      border-right-color: var(--fill-color);\n",
              "    }\n",
              "    40% {\n",
              "      border-color: transparent;\n",
              "      border-right-color: var(--fill-color);\n",
              "      border-top-color: var(--fill-color);\n",
              "    }\n",
              "    60% {\n",
              "      border-color: transparent;\n",
              "      border-right-color: var(--fill-color);\n",
              "    }\n",
              "    80% {\n",
              "      border-color: transparent;\n",
              "      border-right-color: var(--fill-color);\n",
              "      border-bottom-color: var(--fill-color);\n",
              "    }\n",
              "    90% {\n",
              "      border-color: transparent;\n",
              "      border-bottom-color: var(--fill-color);\n",
              "    }\n",
              "  }\n",
              "</style>\n",
              "\n",
              "  <script>\n",
              "    async function quickchart(key) {\n",
              "      const quickchartButtonEl =\n",
              "        document.querySelector('#' + key + ' button');\n",
              "      quickchartButtonEl.disabled = true;  // To prevent multiple clicks.\n",
              "      quickchartButtonEl.classList.add('colab-df-spinner');\n",
              "      try {\n",
              "        const charts = await google.colab.kernel.invokeFunction(\n",
              "            'suggestCharts', [key], {});\n",
              "      } catch (error) {\n",
              "        console.error('Error during call to suggestCharts:', error);\n",
              "      }\n",
              "      quickchartButtonEl.classList.remove('colab-df-spinner');\n",
              "      quickchartButtonEl.classList.add('colab-df-quickchart-complete');\n",
              "    }\n",
              "    (() => {\n",
              "      let quickchartButtonEl =\n",
              "        document.querySelector('#df-db4a949f-6096-411b-a50e-9a8dbe904ac5 button');\n",
              "      quickchartButtonEl.style.display =\n",
              "        google.colab.kernel.accessAllowed ? 'block' : 'none';\n",
              "    })();\n",
              "  </script>\n",
              "</div>\n",
              "\n",
              "  <div id=\"id_c0ef13ca-8160-4c6f-b472-a8652c564fdb\">\n",
              "    <style>\n",
              "      .colab-df-generate {\n",
              "        background-color: #E8F0FE;\n",
              "        border: none;\n",
              "        border-radius: 50%;\n",
              "        cursor: pointer;\n",
              "        display: none;\n",
              "        fill: #1967D2;\n",
              "        height: 32px;\n",
              "        padding: 0 0 0 0;\n",
              "        width: 32px;\n",
              "      }\n",
              "\n",
              "      .colab-df-generate:hover {\n",
              "        background-color: #E2EBFA;\n",
              "        box-shadow: 0px 1px 2px rgba(60, 64, 67, 0.3), 0px 1px 3px 1px rgba(60, 64, 67, 0.15);\n",
              "        fill: #174EA6;\n",
              "      }\n",
              "\n",
              "      [theme=dark] .colab-df-generate {\n",
              "        background-color: #3B4455;\n",
              "        fill: #D2E3FC;\n",
              "      }\n",
              "\n",
              "      [theme=dark] .colab-df-generate:hover {\n",
              "        background-color: #434B5C;\n",
              "        box-shadow: 0px 1px 3px 1px rgba(0, 0, 0, 0.15);\n",
              "        filter: drop-shadow(0px 1px 2px rgba(0, 0, 0, 0.3));\n",
              "        fill: #FFFFFF;\n",
              "      }\n",
              "    </style>\n",
              "    <button class=\"colab-df-generate\" onclick=\"generateWithVariable('data')\"\n",
              "            title=\"Generate code using this dataframe.\"\n",
              "            style=\"display:none;\">\n",
              "\n",
              "  <svg xmlns=\"http://www.w3.org/2000/svg\" height=\"24px\"viewBox=\"0 0 24 24\"\n",
              "       width=\"24px\">\n",
              "    <path d=\"M7,19H8.4L18.45,9,17,7.55,7,17.6ZM5,21V16.75L18.45,3.32a2,2,0,0,1,2.83,0l1.4,1.43a1.91,1.91,0,0,1,.58,1.4,1.91,1.91,0,0,1-.58,1.4L9.25,21ZM18.45,9,17,7.55Zm-12,3A5.31,5.31,0,0,0,4.9,8.1,5.31,5.31,0,0,0,1,6.5,5.31,5.31,0,0,0,4.9,4.9,5.31,5.31,0,0,0,6.5,1,5.31,5.31,0,0,0,8.1,4.9,5.31,5.31,0,0,0,12,6.5,5.46,5.46,0,0,0,6.5,12Z\"/>\n",
              "  </svg>\n",
              "    </button>\n",
              "    <script>\n",
              "      (() => {\n",
              "      const buttonEl =\n",
              "        document.querySelector('#id_c0ef13ca-8160-4c6f-b472-a8652c564fdb button.colab-df-generate');\n",
              "      buttonEl.style.display =\n",
              "        google.colab.kernel.accessAllowed ? 'block' : 'none';\n",
              "\n",
              "      buttonEl.onclick = () => {\n",
              "        google.colab.notebook.generateWithVariable('data');\n",
              "      }\n",
              "      })();\n",
              "    </script>\n",
              "  </div>\n",
              "\n",
              "    </div>\n",
              "  </div>\n"
            ],
            "application/vnd.google.colaboratory.intrinsic+json": {
              "type": "dataframe",
              "variable_name": "data",
              "summary": "{\n  \"name\": \"data\",\n  \"rows\": 1000,\n  \"fields\": [\n    {\n      \"column\": \"Gender\",\n      \"properties\": {\n        \"dtype\": \"category\",\n        \"num_unique_values\": 3,\n        \"samples\": [\n          \"F\",\n          \"I\",\n          \"M\"\n        ],\n        \"semantic_type\": \"\",\n        \"description\": \"\"\n      }\n    },\n    {\n      \"column\": \"Length\",\n      \"properties\": {\n        \"dtype\": \"number\",\n        \"std\": 0.12006414034922244,\n        \"min\": 0.075,\n        \"max\": 0.815,\n        \"num_unique_values\": 119,\n        \"samples\": [\n          0.135,\n          0.44,\n          0.64\n        ],\n        \"semantic_type\": \"\",\n        \"description\": \"\"\n      }\n    },\n    {\n      \"column\": \"Diameter\",\n      \"properties\": {\n        \"dtype\": \"number\",\n        \"std\": 0.09883183042778133,\n        \"min\": 0.055,\n        \"max\": 0.65,\n        \"num_unique_values\": 99,\n        \"samples\": [\n          0.37,\n          0.465,\n          0.105\n        ],\n        \"semantic_type\": \"\",\n        \"description\": \"\"\n      }\n    },\n    {\n      \"column\": \"Height\",\n      \"properties\": {\n        \"dtype\": \"number\",\n        \"std\": 0.05706352816156952,\n        \"min\": 0.0,\n        \"max\": 1.13,\n        \"num_unique_values\": 51,\n        \"samples\": [\n          0.045,\n          0.215,\n          0.0\n        ],\n        \"semantic_type\": \"\",\n        \"description\": \"\"\n      }\n    },\n    {\n      \"column\": \"Weight\",\n      \"properties\": {\n        \"dtype\": \"number\",\n        \"std\": 0.4903796251747587,\n        \"min\": 0.002,\n        \"max\": 2.555,\n        \"num_unique_values\": 869,\n        \"samples\": [\n          0.7275,\n          1.017,\n          0.336\n        ],\n        \"semantic_type\": \"\",\n        \"description\": \"\"\n      }\n    },\n    {\n      \"column\": \"Rings\",\n      \"properties\": {\n        \"dtype\": \"number\",\n        \"std\": 47,\n        \"min\": 1,\n        \"max\": 1500,\n        \"num_unique_values\": 24,\n        \"samples\": [\n          11,\n          19,\n          12\n        ],\n        \"semantic_type\": \"\",\n        \"description\": \"\"\n      }\n    }\n  ]\n}"
            }
          },
          "metadata": {},
          "execution_count": 5
        }
      ]
    },
    {
      "cell_type": "markdown",
      "metadata": {
        "id": "XLssOWbLgyEq"
      },
      "source": [
        "`Question 1.0` is an example of how you should answer the following questions. First, in the `#TODO` cell you have to write the code representing your solution. And in the answer cell write the answer with your own words. Please make sure your sentences should be clear enough. Try to avoid abbreviations and short sentences."
      ]
    },
    {
      "cell_type": "markdown",
      "metadata": {
        "id": "NiAAHDUUgyEr"
      },
      "source": [
        " **1.0. What is overall memory consumption of the data?** (EXAMPLE)"
      ]
    },
    {
      "cell_type": "code",
      "execution_count": 6,
      "metadata": {
        "id": "IgejyfJXgyEs",
        "colab": {
          "base_uri": "https://localhost:8080/"
        },
        "outputId": "35fdfbc9-d151-4aa0-a876-18a6811e9ce5"
      },
      "outputs": [
        {
          "output_type": "execute_result",
          "data": {
            "text/plain": [
              "98132"
            ]
          },
          "metadata": {},
          "execution_count": 6
        }
      ],
      "source": [
        "# TODO - here you have to write the code.\n",
        "data.memory_usage(deep=True).sum()"
      ]
    },
    {
      "cell_type": "markdown",
      "metadata": {
        "id": "e4vjuR2_gyEu"
      },
      "source": [
        "* Provide description based on the outcome of the cell above. Please describe as much as possible and as little as required. If you are asked to display a dataframe, you can use the code cells and display the dataframe in the output. You can also use the answer cell (markdown type) for descriptive answers.\n",
        "\n"
      ]
    },
    {
      "cell_type": "markdown",
      "metadata": {
        "id": "3J7UcyB3hfzG"
      },
      "source": [
        "**<font color='red'>Answer:</font>** Overall memory consumption: 98132 bytes"
      ]
    },
    {
      "cell_type": "markdown",
      "metadata": {
        "id": "VvZjPHCegyEv"
      },
      "source": [
        " **1.1. How many variables (features) are in the dataset? State the feature names. (0.10 point)** <br>\n",
        " Hint: Variables or features are the number of columns in a dataset."
      ]
    },
    {
      "cell_type": "code",
      "execution_count": null,
      "metadata": {
        "id": "q4Aiwr-TgyEw"
      },
      "outputs": [],
      "source": []
    },
    {
      "cell_type": "markdown",
      "metadata": {
        "id": "ISRKVsizgyEy"
      },
      "source": [
        "**<font color='red'>Answer:</font>**"
      ]
    },
    {
      "cell_type": "markdown",
      "metadata": {
        "id": "B9QwvJRAgyEz"
      },
      "source": [
        "**1.2. How many observations (i.e. rows) are in this data frame?** **(0.10 point)**\n"
      ]
    },
    {
      "cell_type": "code",
      "execution_count": null,
      "metadata": {
        "id": "7Sf3o8PzgyE0"
      },
      "outputs": [],
      "source": []
    },
    {
      "cell_type": "markdown",
      "metadata": {
        "id": "gGNbN-ttgyE2"
      },
      "source": [
        "**<font color='red'>Answer:</font>**"
      ]
    },
    {
      "cell_type": "markdown",
      "metadata": {
        "id": "7bNY26vggyE4"
      },
      "source": [
        "**1.3. Print the first 5 lines from the dataset. What are the values of feature `Rings`?** **(0.10 point)**"
      ]
    },
    {
      "cell_type": "code",
      "execution_count": null,
      "metadata": {
        "id": "pozF0WCagyE5"
      },
      "outputs": [],
      "source": []
    },
    {
      "cell_type": "markdown",
      "metadata": {
        "id": "i3S6mDeJgyE7"
      },
      "source": [
        "**<font color='red'>Answer:</font>**"
      ]
    },
    {
      "cell_type": "markdown",
      "metadata": {
        "id": "CKvqW0PYgyE8"
      },
      "source": [
        "**1.4. Extract the last 3 rows of the data frame. What are the values of feature `Weight`?** **(0.10 point)**"
      ]
    },
    {
      "cell_type": "code",
      "execution_count": null,
      "metadata": {
        "id": "yFQPHLnVgyE8"
      },
      "outputs": [],
      "source": []
    },
    {
      "cell_type": "markdown",
      "metadata": {
        "id": "5e46xJ0WgyE-"
      },
      "source": [
        "**<font color='red'>Answer:</font>**"
      ]
    },
    {
      "cell_type": "markdown",
      "metadata": {
        "id": "IAG09Z2SgyE_"
      },
      "source": [
        "**1.5. What is the value of diameter in the row 575?** **(0.25 point)**"
      ]
    },
    {
      "cell_type": "code",
      "execution_count": null,
      "metadata": {
        "id": "e6p3_5BSgyFA"
      },
      "outputs": [],
      "source": []
    },
    {
      "cell_type": "markdown",
      "metadata": {
        "id": "aTPLVBRB6n2b"
      },
      "source": [
        "**<font color='red'>Answer:</font>**"
      ]
    },
    {
      "cell_type": "markdown",
      "metadata": {
        "id": "PbMP_QZigyFC"
      },
      "source": [
        "**1.6. What are the mean, median and third (75%) quartile value of the height column?** **(0.25 point)** <br>\n",
        "Hint: Use pandas describe() method for mean and third quartile values."
      ]
    },
    {
      "cell_type": "code",
      "execution_count": null,
      "metadata": {
        "id": "Zsjdbu1MgyFD",
        "scrolled": true
      },
      "outputs": [],
      "source": []
    },
    {
      "cell_type": "markdown",
      "metadata": {
        "id": "MXUVEljWgyFF"
      },
      "source": [
        "**<font color='red'>Answer:</font>**"
      ]
    },
    {
      "cell_type": "markdown",
      "metadata": {
        "id": "rqK3C2AZgyFF"
      },
      "source": [
        "**1.7. Show the subset of rows from the data frame where `Gender` is F and `Weight` values are above 0.75. What is the mean of `Diameter` in this subset?** **(0.30 point)**"
      ]
    },
    {
      "cell_type": "code",
      "execution_count": null,
      "metadata": {
        "id": "0QpY4bo0gyFG"
      },
      "outputs": [],
      "source": []
    },
    {
      "cell_type": "markdown",
      "metadata": {
        "id": "YaMEfs3ogyFJ"
      },
      "source": [
        "**<font color='red'>Answer:</font>**"
      ]
    },
    {
      "cell_type": "markdown",
      "metadata": {
        "id": "B7Yd8ZPSgyFK"
      },
      "source": [
        "**1.8. Show the subset of rows from the dataframe where `Rings` values are exactly 18? <br>\n",
        "Find the minimum value of `Length` of this subset** **(0.30 point)**"
      ]
    },
    {
      "cell_type": "code",
      "execution_count": null,
      "metadata": {
        "id": "_IeMWswJgyFK"
      },
      "outputs": [],
      "source": []
    },
    {
      "cell_type": "markdown",
      "metadata": {
        "id": "8tbre7YtgyFM"
      },
      "source": [
        "**<font color='red'>Answer:</font>**"
      ]
    },
    {
      "cell_type": "markdown",
      "metadata": {
        "id": "sDL-xKNugyFN"
      },
      "source": [
        "# 2.  Understanding Data (2.5 point)"
      ]
    },
    {
      "cell_type": "markdown",
      "metadata": {
        "id": "hyESgblXgyFN"
      },
      "source": [
        "Data loading, describing, exploring, and verifying the quality of the data are <b>pivotal</b> to any data analysis task. <br>\n",
        "We will work with a new dataset, 'adult.csv',in this section. You will be asked to perform the mentioned tasks on this dataset.<br>"
      ]
    },
    {
      "cell_type": "markdown",
      "metadata": {
        "id": "qqaqaUAtgyFO"
      },
      "source": [
        "**2.0. Load data from the  `adult.csv` file.** <br>\n",
        "Hint 1: The extension of the filename may not always reflect the structure of data precisely. Are the values comma-separated (csv) or not?"
      ]
    },
    {
      "cell_type": "code",
      "execution_count": null,
      "metadata": {
        "id": "MiipOOJ0gyFP",
        "outputId": "7a6227ac-0194-4214-a011-1e8267409515",
        "scrolled": false
      },
      "outputs": [
        {
          "data": {
            "text/html": [
              "<div>\n",
              "<style scoped>\n",
              "    .dataframe tbody tr th:only-of-type {\n",
              "        vertical-align: middle;\n",
              "    }\n",
              "\n",
              "    .dataframe tbody tr th {\n",
              "        vertical-align: top;\n",
              "    }\n",
              "\n",
              "    .dataframe thead th {\n",
              "        text-align: right;\n",
              "    }\n",
              "</style>\n",
              "<table border=\"1\" class=\"dataframe\">\n",
              "  <thead>\n",
              "    <tr style=\"text-align: right;\">\n",
              "      <th></th>\n",
              "      <th>age</th>\n",
              "      <th>workclass</th>\n",
              "      <th>education</th>\n",
              "      <th>occupation</th>\n",
              "      <th>capital.gain</th>\n",
              "      <th>capital.loss</th>\n",
              "      <th>native.country</th>\n",
              "      <th>salaries</th>\n",
              "      <th>jobsatisfaction</th>\n",
              "      <th>male</th>\n",
              "      <th>female</th>\n",
              "    </tr>\n",
              "    <tr>\n",
              "      <th>X</th>\n",
              "      <th></th>\n",
              "      <th></th>\n",
              "      <th></th>\n",
              "      <th></th>\n",
              "      <th></th>\n",
              "      <th></th>\n",
              "      <th></th>\n",
              "      <th></th>\n",
              "      <th></th>\n",
              "      <th></th>\n",
              "      <th></th>\n",
              "    </tr>\n",
              "  </thead>\n",
              "  <tbody>\n",
              "    <tr>\n",
              "      <th>0</th>\n",
              "      <td>39</td>\n",
              "      <td>State-gov</td>\n",
              "      <td>Bachelors</td>\n",
              "      <td>Adm-clerical</td>\n",
              "      <td>2174</td>\n",
              "      <td>0</td>\n",
              "      <td>United-States</td>\n",
              "      <td>43136.0</td>\n",
              "      <td>0</td>\n",
              "      <td>1.0</td>\n",
              "      <td>NaN</td>\n",
              "    </tr>\n",
              "    <tr>\n",
              "      <th>1</th>\n",
              "      <td>50</td>\n",
              "      <td>Self-emp-not-inc</td>\n",
              "      <td>Bachelors</td>\n",
              "      <td>Exec-managerial</td>\n",
              "      <td>0</td>\n",
              "      <td>0</td>\n",
              "      <td>UnitedStates</td>\n",
              "      <td>46209.0</td>\n",
              "      <td>7</td>\n",
              "      <td>1.0</td>\n",
              "      <td>NaN</td>\n",
              "    </tr>\n",
              "    <tr>\n",
              "      <th>2</th>\n",
              "      <td>38</td>\n",
              "      <td>privat</td>\n",
              "      <td>HS-grad</td>\n",
              "      <td>Handlers-cleaners</td>\n",
              "      <td>0</td>\n",
              "      <td>0</td>\n",
              "      <td>United-States</td>\n",
              "      <td>28937.0</td>\n",
              "      <td>6</td>\n",
              "      <td>1.0</td>\n",
              "      <td>NaN</td>\n",
              "    </tr>\n",
              "    <tr>\n",
              "      <th>3</th>\n",
              "      <td>53</td>\n",
              "      <td>privat</td>\n",
              "      <td>11th</td>\n",
              "      <td>Handlers-cleaners</td>\n",
              "      <td>0</td>\n",
              "      <td>0</td>\n",
              "      <td>United-States</td>\n",
              "      <td>33658.0</td>\n",
              "      <td>6</td>\n",
              "      <td>1.0</td>\n",
              "      <td>NaN</td>\n",
              "    </tr>\n",
              "    <tr>\n",
              "      <th>4</th>\n",
              "      <td>28</td>\n",
              "      <td>privat</td>\n",
              "      <td>Bachelors</td>\n",
              "      <td>Prof-specialty</td>\n",
              "      <td>0</td>\n",
              "      <td>0</td>\n",
              "      <td>Cuba</td>\n",
              "      <td>34372.0</td>\n",
              "      <td>12</td>\n",
              "      <td>NaN</td>\n",
              "      <td>1.0</td>\n",
              "    </tr>\n",
              "  </tbody>\n",
              "</table>\n",
              "</div>"
            ],
            "text/plain": [
              "  age          workclass   education          occupation  capital.gain  \\\n",
              "X                                                                        \n",
              "0  39          State-gov   Bachelors        Adm-clerical          2174   \n",
              "1  50   Self-emp-not-inc   Bachelors     Exec-managerial             0   \n",
              "2  38             privat     HS-grad   Handlers-cleaners             0   \n",
              "3  53             privat        11th   Handlers-cleaners             0   \n",
              "4  28             privat   Bachelors      Prof-specialty             0   \n",
              "\n",
              "   capital.loss  native.country  salaries jobsatisfaction  male  female  \n",
              "X                                                                        \n",
              "0             0   United-States   43136.0               0   1.0     NaN  \n",
              "1             0    UnitedStates   46209.0               7   1.0     NaN  \n",
              "2             0   United-States   28937.0               6   1.0     NaN  \n",
              "3             0   United-States   33658.0               6   1.0     NaN  \n",
              "4             0            Cuba   34372.0              12   NaN     1.0  "
            ]
          },
          "execution_count": 1,
          "metadata": {},
          "output_type": "execute_result"
        }
      ],
      "source": [
        "import numpy as np\n",
        "import pandas as pd\n",
        "\n",
        "\n",
        "data = pd.read_csv('adult.csv', sep='\\t', index_col=0)\n",
        "data.head()"
      ]
    },
    {
      "cell_type": "markdown",
      "metadata": {
        "id": "kfVl2ZCYgyFR"
      },
      "source": [
        "**2.1. Name all the columns in this dataset and describe the meaning of each column in one sentence. (0.25 points)** <br>"
      ]
    },
    {
      "cell_type": "code",
      "execution_count": null,
      "metadata": {
        "id": "JKlElZ8EoXXf"
      },
      "outputs": [],
      "source": []
    },
    {
      "cell_type": "markdown",
      "metadata": {
        "id": "m7LD_44EgyFU"
      },
      "source": [
        "**<font color='red'>Answer:</font>**"
      ]
    },
    {
      "cell_type": "markdown",
      "metadata": {
        "id": "3qgkWuAQgyFU"
      },
      "source": [
        "####  2.1.1.Visualization is one of the easiest ways to get a good overview of the data, notice any peculiarity, or outliers. <br>In the following subtasks, you will have to visualize the distribution of the values for different features using appropriate diagrams."
      ]
    },
    {
      "cell_type": "code",
      "execution_count": null,
      "metadata": {
        "id": "seKrq_6pgyFV"
      },
      "outputs": [],
      "source": [
        "# Matplotlib is a Python 2D plotting library which produces publication quality figures in a variety of hardcopy formats\n",
        "# and interactive environments across platforms. Matplotlib can be used in Python scripts, the Python and IPython shells,\n",
        "# Jupyter notebook, web application servers, and for graphical user interface toolkits.\n",
        "import matplotlib.pyplot as plt\n",
        "\n",
        "# allows to output plots in the notebook\n",
        "%matplotlib inline\n",
        "\n",
        "# Set the default style\n",
        "plt.style.use('ggplot')"
      ]
    },
    {
      "cell_type": "markdown",
      "metadata": {
        "id": "nGn22mj5gyFX"
      },
      "source": [
        "As an example, here is the frequency histogram of \"age\" column, where age is an attribute of type **numeric**:"
      ]
    },
    {
      "cell_type": "code",
      "execution_count": null,
      "metadata": {
        "id": "70TQxyBkgyFX"
      },
      "outputs": [],
      "source": [
        "# Columns may contain non-numeric values, errors or missing values. Therefore, non-numeric values must be dealt with.\n",
        "if data is not ...:\n",
        "    pd.to_numeric(data['age'], errors='coerce').hist(bins=30) # ‘coerce’ -> invalid parsing will be set as NaN\n",
        "else:\n",
        "    print('Please define `data` in earlier subtasks')"
      ]
    },
    {
      "cell_type": "markdown",
      "metadata": {
        "id": "7sHWWIhygyFZ"
      },
      "source": [
        "**2.2. Specify the type of `workclass` attribute (nominal / ordinal / numeric). Choose an appropriate chart to visualise the frequency distribution for the values of `workclass`. (0.25 points)** <br>\n",
        "Hint: Do not forget the data preprocessing part. First look for any unusual value in the specific column and deal with it appropriately. You do not necessarily need to eyeball each of the rows. But you can think of other ways perhaps. The original dataset uses '?' for missing values"
      ]
    },
    {
      "cell_type": "markdown",
      "metadata": {
        "id": "fn8nRBz8gyFa"
      },
      "source": [
        "**<font color='red'>Attribute type :</font>**"
      ]
    },
    {
      "cell_type": "code",
      "execution_count": null,
      "metadata": {
        "id": "ZykR2zwMgyFa"
      },
      "outputs": [],
      "source": []
    },
    {
      "cell_type": "markdown",
      "metadata": {
        "id": "ic6lq5ergyFc"
      },
      "source": [
        "**2.3. Specify the type of `education` attribute (nominal / ordinal / numeric). Choose an appropriate chart to visualise the frequency distribution for the values of `education`. (0.25 points)** <br>"
      ]
    },
    {
      "cell_type": "markdown",
      "metadata": {
        "id": "C1zSn4tygyFd"
      },
      "source": [
        "**<font color='red'>Attribute type :</font>**"
      ]
    },
    {
      "cell_type": "code",
      "execution_count": null,
      "metadata": {
        "id": "YxFaVtnCgyFd"
      },
      "outputs": [],
      "source": []
    },
    {
      "cell_type": "markdown",
      "metadata": {
        "id": "fDoBsgchgyFf"
      },
      "source": [
        "**2.4. Specify the type of `occupation` attribute (nominal / ordinal / numeric). Choose an appropriate chart to visualise the frequency distribution for the values of `occupation`. (0.25 points)**"
      ]
    },
    {
      "cell_type": "markdown",
      "metadata": {
        "id": "mX0UIBsSgyFf"
      },
      "source": [
        "**<font color='red'>Attribute type :</font>**"
      ]
    },
    {
      "cell_type": "code",
      "execution_count": null,
      "metadata": {
        "id": "FtrZuF9XgyFg",
        "scrolled": false
      },
      "outputs": [],
      "source": []
    },
    {
      "cell_type": "markdown",
      "metadata": {
        "id": "OUykwd4-gyFi"
      },
      "source": [
        "**2.5. Specify the type of `native.country` attribute (nominal / ordinal / numeric). Choose an appropriate chart to visualise the frequency distribution for the values of `native.country`. (0.25 points)**"
      ]
    },
    {
      "cell_type": "markdown",
      "metadata": {
        "id": "b40iyT1ggyFi"
      },
      "source": [
        "**<font color='red'>Attribute type :</font>**"
      ]
    },
    {
      "cell_type": "code",
      "execution_count": null,
      "metadata": {
        "id": "6jwSal9ogyFj",
        "scrolled": false
      },
      "outputs": [],
      "source": []
    },
    {
      "cell_type": "markdown",
      "metadata": {
        "id": "9noaPZsHgyFl"
      },
      "source": [
        "**2.6. Specify the type of `salaries` attribute (nominal / ordinal / numeric). Choose an appropriate chart to visualise the frequency distribution for the values of `salaries`. (0.25 points)**"
      ]
    },
    {
      "cell_type": "markdown",
      "metadata": {
        "id": "N4sTxrttgyFl"
      },
      "source": [
        "**<font color='red'>Attribute type :</font>**"
      ]
    },
    {
      "cell_type": "code",
      "execution_count": null,
      "metadata": {
        "id": "7tg9bjOzgyFm",
        "scrolled": false
      },
      "outputs": [],
      "source": []
    },
    {
      "cell_type": "markdown",
      "metadata": {
        "id": "HzDSxjzsgyFo"
      },
      "source": [
        "**2.7. Attributes `male` and `female`. Specify the types of these attributes (nominal / ordinal / numeric). Choose an appropriate chart type to visualise the relative frequency of positive values in attribute `male` and positive values in attribute `female` (relative frequency of males and females). (0.25 points)**"
      ]
    },
    {
      "cell_type": "markdown",
      "metadata": {
        "id": "gpNd1Z7XgyFo"
      },
      "source": [
        "**<font color='red'>Attribute type :</font>**"
      ]
    },
    {
      "cell_type": "code",
      "execution_count": null,
      "metadata": {
        "id": "VokObsU2gyFp",
        "scrolled": false
      },
      "outputs": [],
      "source": []
    },
    {
      "cell_type": "markdown",
      "metadata": {
        "id": "-TqRzwEZgyFr"
      },
      "source": [
        "**2.8. Count the number of missing values in each attribute in the dataset and report the percentage of missing values of each attribute (the original file uses '?' for missing values). (0.25 points)**"
      ]
    },
    {
      "cell_type": "code",
      "execution_count": null,
      "metadata": {
        "id": "8OCwVGZ7gyFr",
        "scrolled": false
      },
      "outputs": [],
      "source": []
    },
    {
      "cell_type": "markdown",
      "metadata": {
        "id": "LTm9goO0odqy"
      },
      "source": [
        "**<font color='red'>Answer:</font>**"
      ]
    },
    {
      "cell_type": "markdown",
      "metadata": {
        "id": "JW2LQpVLTTuI"
      },
      "source": [
        "<strong>2.9. Please provide a descriptive statistics for the people who work(`workclass`) in private sector. <br>Separately answer the following questions, <br> What are their mean and median salaries (`salaries`), job satisfaction (`jobsatisfaction`)? <br> What are their highest and lowest level of education (`education`)? <br> Provide the percentage of `male` and `female` employee distribution of these people.  (0.5 points)<strong>"
      ]
    },
    {
      "cell_type": "code",
      "execution_count": null,
      "metadata": {
        "id": "IuYok_tiTTuI"
      },
      "outputs": [],
      "source": []
    },
    {
      "cell_type": "markdown",
      "metadata": {
        "id": "t2gV7tCPoedO"
      },
      "source": [
        "**<font color='red'>Answer:</font>**"
      ]
    },
    {
      "cell_type": "markdown",
      "metadata": {
        "id": "zA0tQqQ-gyFu"
      },
      "source": [
        "# 3.  Data preparation (1.5 points)"
      ]
    },
    {
      "cell_type": "markdown",
      "metadata": {
        "id": "5oLOS7LWgyFu"
      },
      "source": [
        "Preparing the data for analysis is the most crucial part of data analysis. In this exercise, we will clean up the dataset 'adult.csv'. The dataset was purposefully made untidy so that you can practice cleaning it up.<br>"
      ]
    },
    {
      "cell_type": "markdown",
      "metadata": {
        "id": "H_S7GNXCgyFv"
      },
      "source": [
        "First, let's make a deep copy of the original DataFrame. Later we will compare it to the cleaned/modified DataFrame."
      ]
    },
    {
      "cell_type": "code",
      "execution_count": null,
      "metadata": {
        "id": "oTT78CZtgyFv",
        "scrolled": false
      },
      "outputs": [],
      "source": [
        "if data is not ...:\n",
        "    original_data = data.copy(deep=True) # Make a deep copy, including a copy of the data and the indices"
      ]
    },
    {
      "cell_type": "markdown",
      "metadata": {
        "id": "XPjMB5BfgyFx"
      },
      "source": [
        "**3.1. Sometimes values include leading and/or trailing spaces. Remove leading and trailing whitespace from strings. Count the number of rows that were changed in the dataset. (0.30 points)** <br>"
      ]
    },
    {
      "cell_type": "code",
      "execution_count": null,
      "metadata": {
        "id": "nLDSg2s0gyFx"
      },
      "outputs": [],
      "source": [
        "#Perform manipulations in the 'data' dataframe. So that later you can use the code block below to compare\n"
      ]
    },
    {
      "cell_type": "markdown",
      "metadata": {
        "id": "ypKQ7rHDgyFz"
      },
      "source": [
        "Use code below to count how many rows were affected."
      ]
    },
    {
      "cell_type": "code",
      "execution_count": null,
      "metadata": {
        "id": "p1GVNw05gyF1"
      },
      "outputs": [],
      "source": [
        "# Count differences\n",
        "if data is not ...:\n",
        "    data_all = pd.concat([original_data, data]).drop_duplicates()\n",
        "    diff = data_all.shape[0] - data.shape[0]\n",
        "    print ('Difference: ' + str(diff))"
      ]
    },
    {
      "cell_type": "markdown",
      "metadata": {
        "id": "_rfkpGsJgyF3"
      },
      "source": [
        "**<font color='red'>Answer:</font>**"
      ]
    },
    {
      "cell_type": "markdown",
      "metadata": {
        "id": "BBT286CHgyF3"
      },
      "source": [
        "**3.2. Replace all non-sensical values in `data` with np.nan from numpy package to denote missing values (Original file uses '?' for missing values). Fix the typos in the dataset. Justify all the changes that you do, explaining why you are sure that this is a correct change and what you think the cause for such error. (0.60 points)**  <br>"
      ]
    },
    {
      "cell_type": "code",
      "execution_count": null,
      "metadata": {
        "id": "IETuPnl6gyF4"
      },
      "outputs": [],
      "source": []
    },
    {
      "cell_type": "markdown",
      "metadata": {
        "id": "rsO6f0E3gyF6"
      },
      "source": [
        "**<font color='red'>Answer:</font>**"
      ]
    },
    {
      "cell_type": "markdown",
      "metadata": {
        "id": "BRZ8piLMgyF6"
      },
      "source": [
        "**3.3. Count the rows which were changed in the subtask 3.2 (0.30 points)** <br>"
      ]
    },
    {
      "cell_type": "code",
      "execution_count": null,
      "metadata": {
        "id": "MeyNTYLegyF8",
        "scrolled": true
      },
      "outputs": [],
      "source": [
        "data_all = #TODO\n",
        "diff = data_all.shape[0] - data.shape[0]\n",
        "print ('Difference: ' + str(diff))"
      ]
    },
    {
      "cell_type": "markdown",
      "metadata": {
        "id": "FLjQtWwygyF-"
      },
      "source": [
        "**<font color='red'>Answer:</font>**"
      ]
    },
    {
      "cell_type": "markdown",
      "metadata": {
        "id": "SMz9X0figyF_"
      },
      "source": [
        "**3.4. Report values that look suspicious. By suspicious we mean that you are not sure if those values are wrong or right. This is an open-ended question, use your rational judgement. (0.30 points)** <br>"
      ]
    },
    {
      "cell_type": "code",
      "execution_count": null,
      "metadata": {
        "id": "S7zIDygLojA9"
      },
      "outputs": [],
      "source": []
    },
    {
      "cell_type": "markdown",
      "metadata": {
        "id": "_07BDDEJgyF_"
      },
      "source": [
        "**<font color='red'>Answer:</font>**"
      ]
    },
    {
      "cell_type": "markdown",
      "metadata": {
        "id": "W9KyP9U8gyGB"
      },
      "source": [
        "# 4.  Exploring dataset (2 points)"
      ]
    },
    {
      "cell_type": "markdown",
      "metadata": {
        "id": "srZFaEN4gyGB"
      },
      "source": [
        "Gathering interesting facts about the `adult.csv` through visualization without complex data analysis."
      ]
    },
    {
      "cell_type": "markdown",
      "metadata": {
        "id": "pRkB8hD3gyGB"
      },
      "source": [
        "**4.1. Convert the attribute `Education` into type `category` and introduce the order for this attribute based on the education level (e.g. Masters is higher education than Bachelors; use your best guess in ordering those levels for which the order is not obvious). Create a bar chart visualising the relative frequencies of values. (0.5 Points)**"
      ]
    },
    {
      "cell_type": "code",
      "execution_count": null,
      "metadata": {
        "id": "jOk7vRjXgyGC"
      },
      "outputs": [],
      "source": []
    },
    {
      "cell_type": "markdown",
      "metadata": {
        "id": "CLMy9_Ttoj4K"
      },
      "source": [
        "**<font color='red'>Answer:</font>**"
      ]
    },
    {
      "cell_type": "markdown",
      "metadata": {
        "id": "xqfN3JGdgyGE"
      },
      "source": [
        "**4.2.  Create and print a Pandas data frame where each row stands for an occupation, each column stands for a level of education, and the cells in the table contain the average salary of people with the corresponding occupation and education level.(0.5 Points)** <br>\n",
        "Hint 1: You can use crosstab, see also aggfunc from the pandas documentation."
      ]
    },
    {
      "cell_type": "code",
      "execution_count": null,
      "metadata": {
        "id": "ZP9FpDmQgyGE",
        "scrolled": false
      },
      "outputs": [],
      "source": []
    },
    {
      "cell_type": "markdown",
      "metadata": {
        "id": "-YaCof8_okid"
      },
      "source": [
        "**<font color='red'>Answer:</font>**"
      ]
    },
    {
      "cell_type": "markdown",
      "metadata": {
        "id": "SkfgCZwdgyGG"
      },
      "source": [
        "**4.3. Make a separate plot for each row (occupation) of the table created in subtask 4.2. Choose the type of the plot to convey the information as good as you can.(0.5 Points)** <br>"
      ]
    },
    {
      "cell_type": "code",
      "execution_count": null,
      "metadata": {
        "id": "CgInKfXBgyGG",
        "scrolled": false
      },
      "outputs": [],
      "source": []
    },
    {
      "cell_type": "markdown",
      "metadata": {
        "id": "aHwphx_rolW6"
      },
      "source": [
        "**<font color='red'>Answer:</font>**"
      ]
    },
    {
      "cell_type": "markdown",
      "metadata": {
        "id": "F16HJ-fagyGH"
      },
      "source": [
        "**4.4. List 3 interesting facts that you can read out of these plots from subtask 4.3. (0.5 points)** <br>"
      ]
    },
    {
      "cell_type": "markdown",
      "metadata": {
        "id": "9oApcs-OgyGI"
      },
      "source": [
        "**<font color='red'>Fact 1:</font>**"
      ]
    },
    {
      "cell_type": "markdown",
      "metadata": {
        "id": "v5CG6OpdgyGI"
      },
      "source": [
        "**<font color='red'>Fact 2:</font>**"
      ]
    },
    {
      "cell_type": "markdown",
      "metadata": {
        "id": "KkRuEv5DgyGJ"
      },
      "source": [
        "**<font color='red'>Fact 3:</font>**"
      ]
    },
    {
      "cell_type": "markdown",
      "metadata": {
        "id": "hxttFXvDTTuS"
      },
      "source": [
        "# 5. Basic Clustering (6 points)\n",
        "We will learn RFM (Recency, Frequency, Monetary value) technique and basic clustering algorithms: K-means, DBSCAN, and Hierarchical clustering in this section.\n",
        "\n"
      ]
    },
    {
      "cell_type": "markdown",
      "metadata": {
        "id": "KIWlyfPHUv7q"
      },
      "source": [
        "## 5.1 RFM (1.5 points)\n",
        "We will apply the RFM technique in this section similar to the practice session. The dataset for this task belongs to http://donorschoose.org/.\n",
        "\n",
        "The web platform http://donorschoose.org helps projects in collecting donations. The donators have the option to give 15% of what they donate to this webplatform. The dataset contains the following fields:\n",
        "\n",
        "- Donor ID - Unique identifier of donors\n",
        "- Donation Included Optional Donation - The donor has agreed(Yes/No) to give 15% of donation amount to Donoschoose.org\n",
        "- Donation Amount - Total amount donated\n",
        "- Donor Cart Sequence - The ranking of the donaton project in the donors list\n",
        "- Donation Received Date - Date of online payment\n"
      ]
    },
    {
      "cell_type": "markdown",
      "metadata": {
        "id": "EzHz71HBTTuS"
      },
      "source": [
        "**5.1.1**\n",
        "**Please load the dataset Donations.csv. <br>The field ```Donation Included Optional Donation``` shows if the donor agreed (Yes/No) to give 15% of donation amount to Donoschoose.org. <br>Update the field \"Donation Amount\" so that it represents the correct amount of donation; which means if `Donation Included Optional Donation`=yes, calculate the `Donation Amount`. (0.25 points)**"
      ]
    },
    {
      "cell_type": "code",
      "execution_count": null,
      "metadata": {
        "id": "njF6zluVTTuS"
      },
      "outputs": [],
      "source": []
    },
    {
      "cell_type": "markdown",
      "metadata": {
        "id": "B1UlyR7XonEW"
      },
      "source": [
        "**<font color='red'>Answer:</font>**"
      ]
    },
    {
      "cell_type": "markdown",
      "metadata": {
        "id": "YiAqRFfoTTuT"
      },
      "source": [
        "**5.1.2 For understanding `Recency`, consider 2018-05-31 23:00:00 as the reference date\n",
        "(we assume this is report date).<br> Calculate the number of days between this date and the date of last purchase  for each customer. How long the donor with ID equal to e0fe4d9b8def8a71635e65ba4ff5ef40 has been inactive ? (0.25 points)**"
      ]
    },
    {
      "cell_type": "code",
      "execution_count": null,
      "metadata": {
        "id": "0Y6ue9XaTTuT"
      },
      "outputs": [],
      "source": []
    },
    {
      "cell_type": "markdown",
      "metadata": {
        "id": "IjIOWKQQonnd"
      },
      "source": [
        "**<font color='red'>Answer:</font>**"
      ]
    },
    {
      "cell_type": "markdown",
      "metadata": {
        "id": "5UU7gBDVTTuT"
      },
      "source": [
        "**5.1.3 For understanding `Frequency`, calculate how frequently (how many times) a user has made donations.<br> Assume that we want to recognize the person with the highest frequency by displaying her/ his name on the webpage, please find the donor ID for the highest frequency available. (0.25 points)**"
      ]
    },
    {
      "cell_type": "code",
      "execution_count": null,
      "metadata": {
        "id": "8CvdrcUSTTuT"
      },
      "outputs": [],
      "source": []
    },
    {
      "cell_type": "markdown",
      "metadata": {
        "id": "ctYZ02-HooKX"
      },
      "source": [
        "**<font color='red'>Answer:</font>**"
      ]
    },
    {
      "cell_type": "markdown",
      "metadata": {
        "id": "s2ZG95vmTTuT"
      },
      "source": [
        "**5.1.4 For understanding `Monetary Value`, calculate the amount of donation. <br> What is the highest donation amount and what is the donor ID of that donation? <br> Is donor ID from from this the same with donor ID from the highest frequency? (0.25 points)**"
      ]
    },
    {
      "cell_type": "code",
      "execution_count": null,
      "metadata": {
        "id": "ojHx71yETTuU"
      },
      "outputs": [],
      "source": []
    },
    {
      "cell_type": "markdown",
      "metadata": {
        "id": "q_VWLhkGoorM"
      },
      "source": [
        "**<font color='red'>Answer:</font>**"
      ]
    },
    {
      "cell_type": "markdown",
      "metadata": {
        "id": "YhQ4oh2pTTuU"
      },
      "source": [
        "**5.1.5 Create a column `RFM_Score` with the quantiles of Recency, Frequency, Monetary value. Interpret the value of `RFM_Score`. (0.50 points)**"
      ]
    },
    {
      "cell_type": "code",
      "execution_count": null,
      "metadata": {
        "id": "FqrOG6-UTTuU"
      },
      "outputs": [],
      "source": []
    },
    {
      "cell_type": "markdown",
      "metadata": {
        "id": "YKREQsmiopMk"
      },
      "source": [
        "**<font color='red'>Answer:</font>**"
      ]
    },
    {
      "cell_type": "markdown",
      "metadata": {
        "id": "DxVq6XBUTTuU"
      },
      "source": [
        "## 5.2 K-means Clustering (1.5 points)\n",
        "We will learn to apply K-means clustering algorithm in this section."
      ]
    },
    {
      "cell_type": "markdown",
      "metadata": {
        "id": "6YaoYBLxTTuV"
      },
      "source": [
        "**5.2.1 Plese load the `customers.csv` dataset and provide a descriptives of the dataset. (0.05 points)** <br>\n",
        "*Make sure to pass `encoding = \"ISO-8859-1\"` in the pandas read_csv() function*"
      ]
    },
    {
      "cell_type": "code",
      "execution_count": null,
      "metadata": {
        "id": "CXnBReqnTTuV"
      },
      "outputs": [],
      "source": []
    },
    {
      "cell_type": "markdown",
      "metadata": {
        "id": "-BdqbrrOopxY"
      },
      "source": [
        "**<font color='red'>Answer:</font>**"
      ]
    },
    {
      "cell_type": "markdown",
      "metadata": {
        "id": "oIbOA9lvTTuV"
      },
      "source": [
        "**5.2.2 Visualize the relation of `Age` and `Annual Income (k$)` of customers in the dataset. You can use your perefered plotting method to show the result. Could you explain the result if there is any relation among the variables? (0.10 points)**"
      ]
    },
    {
      "cell_type": "code",
      "execution_count": null,
      "metadata": {
        "id": "YfRqVfdjTTuV"
      },
      "outputs": [],
      "source": []
    },
    {
      "cell_type": "markdown",
      "metadata": {
        "id": "VwXvc1RhoqPM"
      },
      "source": [
        "**<font color='red'>Answer:</font>**"
      ]
    },
    {
      "cell_type": "markdown",
      "metadata": {
        "id": "-KT0rjbVTTuW"
      },
      "source": [
        "**5.2.3 Visualize the relation of `Age` and `Spending Score (1-100)` of customers in the dataset. You can use your perefered plotting method to show the result. Could you explain the result if there is anything interesting going on? (0.10 points)**"
      ]
    },
    {
      "cell_type": "code",
      "execution_count": null,
      "metadata": {
        "id": "JVXB_gS-TTuW"
      },
      "outputs": [],
      "source": []
    },
    {
      "cell_type": "markdown",
      "metadata": {
        "id": "feFcyAg3oqug"
      },
      "source": [
        "**<font color='red'>Answer:</font>**"
      ]
    },
    {
      "cell_type": "markdown",
      "metadata": {
        "id": "lilm8rLVTTuX"
      },
      "source": [
        "**5.2.4 Visualize the relation of `Annual Income (k$)` and `Spending Score (1-100)` of customers in the dataset. (0.10 points)**"
      ]
    },
    {
      "cell_type": "code",
      "execution_count": null,
      "metadata": {
        "id": "8czjAtb5TTuX"
      },
      "outputs": [],
      "source": []
    },
    {
      "cell_type": "markdown",
      "metadata": {
        "id": "3j8AMXylorPQ"
      },
      "source": [
        "**<font color='red'>Answer:</font>**"
      ]
    },
    {
      "cell_type": "markdown",
      "metadata": {
        "id": "j6bsJJ6aTTuX"
      },
      "source": [
        "If you successfully plotted the diagram of 5.2.4, you should be able to see how the instances(points) are dispersed; clearly there are some groups where the instances are close to each other. Unfortunately computers cannot just look at the plot, guess on the clusters and their boundaries. <br>In order to make machine understand the clusters, we will apply K-means, a very popular and easy algorithm. <br><br>\n",
        "But before applying K-means we have to know on which columns we will apply the K-means algorithm. For that, we have to perform data preprocessing. Since the above plot shows a relation between `Anunual Income (k$)` and `Spending Score (1-100)`, it is wise just to pick those two and proceed. <br><br>\n",
        "\n",
        "However, there are drawbacks of K-means algorithm. It does not inherently know how many possible clusters are available in the dataset. So, we have to set the parameter manually before we run the algorithm. One of the ways to know number clusters is to apply elbow method. The elbow method has been discussed in the lecture. Now it is your turn to apply elbow method on our dataset."
      ]
    },
    {
      "cell_type": "markdown",
      "metadata": {
        "id": "IHKz2nCRTTuX"
      },
      "source": [
        "**5.2.5 Select `Anunual Income (k$)` and `Spending Score (1-100)` to create a new dataset for the purpose of elbow method and K-means. Apply elbow method on the new dataset and plot the result. (0.5 points)**"
      ]
    },
    {
      "cell_type": "code",
      "execution_count": null,
      "metadata": {
        "id": "CJgdr2PhTTuY",
        "outputId": "941bff57-3296-4674-bc90-cd1537e2fa48"
      },
      "outputs": [
        {
          "name": "stdout",
          "output_type": "stream",
          "text": [
            "\u001b[91mTODO: Oops! There is some error, implement the elbow method correctly!\u001b[0m\n"
          ]
        }
      ],
      "source": [
        "CRED = '\\033[91m'\n",
        "CEND = '\\033[0m'\n",
        "\n",
        "#packages you need to do the tasks\n",
        "import pandas as pd\n",
        "import numpy as np\n",
        "import matplotlib.pyplot as plt\n",
        "%matplotlib inline\n",
        "from sklearn.cluster import KMeans\n",
        "\n",
        "#funtion to plot elbow method\n",
        "def plot_elbow(x,y):\n",
        "    if len(y)!=0:\n",
        "\n",
        "        plt.figure(figsize=(16,8))\n",
        "        plt.plot(K, dist, 'bx-')\n",
        "        plt.xlabel('Number of K')\n",
        "        plt.ylabel('Distortion')\n",
        "        plt.title('Elbow Method')\n",
        "        plt.show()\n",
        "    else:\n",
        "        raise NotImplementedError(\"Oops! There is some error, implement the elbow method correctly!\")\n",
        "\n",
        "\n",
        "#data preprocessing\n",
        "\n",
        "\n",
        "\n",
        "##### YOUR DATA PREPROCESSING CODE STARTS ##### (please do not delete this line)\n",
        "\n",
        "##### YOUR DATA PREPROCESSING CODE ENDS ##### (please do not delete this line)\n",
        "\n",
        "\n",
        "\n",
        "\n",
        "\n",
        "dist = []            #Store the distortion in dist variable.\n",
        "K = range(1,10)      #we can check upto 10 clusters, you can change the value if you want to experiment.\n",
        "\n",
        "\n",
        "\n",
        "\n",
        "##### YOUR ELBOW METHOD CODE STARTS ##### (please do not delete this line)\n",
        "\n",
        "##### YOUR ELBOW METHOD CODE ENDS ##### (please do not delete this line)\n",
        "\n",
        "\n",
        "\n",
        "\n",
        "#plot of elbow method\n",
        "try:\n",
        "    plot_elbow(K, dist)\n",
        "except NotImplementedError as e:\n",
        "    print(CRED + \"TODO: \" + str(e) + CEND)"
      ]
    },
    {
      "cell_type": "markdown",
      "metadata": {
        "id": "5-wgxd4Potp_"
      },
      "source": [
        "**<font color='red'>Answer:</font>**"
      ]
    },
    {
      "cell_type": "markdown",
      "metadata": {
        "id": "rI9A95HPTTuc"
      },
      "source": [
        "**5.2.6 If you could successfully apply elbow method, pick the optimal value of K and pass the value to the k-means algoithm you are about to apply.\n",
        "<br> Please apply the K-means algorithm with `max_iter=1`. Pass the argument to the K-means function.\n",
        "<br>Do not forget to visualize the clustering result. <br>Report the cluster centroids(0.5 points)**"
      ]
    },
    {
      "cell_type": "code",
      "execution_count": null,
      "metadata": {
        "id": "HquMlx7ZTTud"
      },
      "outputs": [],
      "source": [
        "##### YOUR K-MEANS CODE STARTS ##### (please do not delete this line)\n",
        "\n",
        "##### YOUR K-MEANS CODE ENDS ##### (please do not delete this line)"
      ]
    },
    {
      "cell_type": "markdown",
      "metadata": {
        "id": "OMVy8u_mouhc"
      },
      "source": [
        "**<font color='red'>Answer:</font>**"
      ]
    },
    {
      "cell_type": "markdown",
      "metadata": {
        "id": "YI9ppZdfTTue"
      },
      "source": [
        "**5.2.7 Please apply the K-means algorithm again with `max_iter=10`.\n",
        "<br>Do not forget to visualize the clustering result. <br>Report the cluster centroids(0.05 points)**"
      ]
    },
    {
      "cell_type": "code",
      "execution_count": null,
      "metadata": {
        "id": "H1zTmOO6TTue"
      },
      "outputs": [],
      "source": []
    },
    {
      "cell_type": "markdown",
      "metadata": {
        "id": "wBPc27Jnou6s"
      },
      "source": [
        "**<font color='red'>Answer:</font>**"
      ]
    },
    {
      "cell_type": "markdown",
      "metadata": {
        "id": "aI6t6drnTTue"
      },
      "source": [
        "**5.2.8 Is there a difference between the centroids with different max_iter value? Justify your answer. (0.1 points)**"
      ]
    },
    {
      "cell_type": "code",
      "execution_count": null,
      "metadata": {
        "id": "sLmTL3vTTTue"
      },
      "outputs": [],
      "source": []
    },
    {
      "cell_type": "markdown",
      "metadata": {
        "id": "CdHwBCpvovbf"
      },
      "source": [
        "**<font color='red'>Answer:</font>**"
      ]
    },
    {
      "cell_type": "markdown",
      "metadata": {
        "id": "Sob_gKeDTTue"
      },
      "source": [
        "## 5.3 DBSCAN (1.5 points)\n",
        "We will apply DBSCAN on the same dataset used for K-means in this section."
      ]
    },
    {
      "cell_type": "markdown",
      "metadata": {
        "id": "k0letld6TTue"
      },
      "source": [
        "**5.3.1 Apply DBSCAN on the same dataset you used to train K-means. Play with the parameter, especially `eps`, and get the best clustering result based on the visualitation which means you have to train and visualize multiple times with a range of values of `eps`. You do not have to check an infinite list of values, pick 4 values and check the visualization after clustering with them. Report the one you find to be the best. (1 points)**"
      ]
    },
    {
      "cell_type": "code",
      "execution_count": null,
      "metadata": {
        "id": "4cabuegXTTuf"
      },
      "outputs": [],
      "source": []
    },
    {
      "cell_type": "markdown",
      "metadata": {
        "id": "_Gyojz2fov4G"
      },
      "source": [
        "**<font color='red'>Answer:</font>**"
      ]
    },
    {
      "cell_type": "markdown",
      "metadata": {
        "id": "mL0rzReVTTuf"
      },
      "source": [
        "**5.3.2 Is the result better than K-means? Justify your answer. Make sure you clearly address the reason why it performed better or worse than K-means. Please answer the advantage and disadvantage of both DBSCAN and K-means. (0.5 points)**"
      ]
    },
    {
      "cell_type": "code",
      "execution_count": null,
      "metadata": {
        "id": "T9wFaG8UTTuf"
      },
      "outputs": [],
      "source": []
    },
    {
      "cell_type": "markdown",
      "metadata": {
        "id": "S5nV9WBSowcU"
      },
      "source": [
        "**<font color='red'>Answer:</font>**"
      ]
    },
    {
      "cell_type": "markdown",
      "metadata": {
        "id": "ECRpjPqCTTug"
      },
      "source": [
        "## 5.4 Hierarchical clustering (1.5 points)\n",
        "We will apply Hierarchical clustering in this section on the same dataset of K-means. The reason we are repeating the task with different clustering algorithm is to ensure that you understand the nuances of different clustering algorithms and know when to use what."
      ]
    },
    {
      "cell_type": "markdown",
      "metadata": {
        "id": "wWkgF_piTTuh"
      },
      "source": [
        "**5.4.1 Like K-means, we have to know the number of clusters required for performing hierarchical clustering. One such way is through plotting dendograms. Please plot a dendogram on the same dataset you used for k-means and DBSCAN. (0.5 points)**"
      ]
    },
    {
      "cell_type": "code",
      "execution_count": null,
      "metadata": {
        "id": "lUyCqPHgTTuh"
      },
      "outputs": [],
      "source": []
    },
    {
      "cell_type": "markdown",
      "metadata": {
        "id": "rrCbU-cFoz-H"
      },
      "source": [
        "**<font color='red'>Answer:</font>**"
      ]
    },
    {
      "cell_type": "markdown",
      "metadata": {
        "id": "kY8IClpxTTui"
      },
      "source": [
        "**5.4.2 Explain how you got the optimum number of clusters in the answer section. (0.25 points)**"
      ]
    },
    {
      "cell_type": "code",
      "execution_count": null,
      "metadata": {
        "id": "B4FJrnvho0gE"
      },
      "outputs": [],
      "source": []
    },
    {
      "cell_type": "markdown",
      "metadata": {
        "id": "4s5YD5l8TTui"
      },
      "source": [
        "<font color='red'>**Answer:**</font>"
      ]
    },
    {
      "cell_type": "markdown",
      "metadata": {
        "id": "TJeza6YkTTui"
      },
      "source": [
        "**5.4.3 Apply hierarchical clustering on the dataset using the optimum number of clusters you got from previous task and visualize the result. (0.5 points)**"
      ]
    },
    {
      "cell_type": "code",
      "execution_count": null,
      "metadata": {
        "id": "L-epxtOqTTui"
      },
      "outputs": [],
      "source": []
    },
    {
      "cell_type": "markdown",
      "metadata": {
        "id": "dDqRmu_Fo1Mf"
      },
      "source": [
        "**<font color='red'>Answer:</font>**"
      ]
    },
    {
      "cell_type": "markdown",
      "metadata": {
        "id": "lPZMickBTTui"
      },
      "source": [
        "**5.4.4 Based on all three clustering, take the best result and explain.\n",
        "In the explanation address how you would describe the customer behavior, are they miser or spendthrift or something else? (0.25 points)**"
      ]
    },
    {
      "cell_type": "code",
      "execution_count": null,
      "metadata": {
        "id": "5VNMQSerozMH"
      },
      "outputs": [],
      "source": []
    },
    {
      "cell_type": "markdown",
      "metadata": {
        "id": "YuEXyyBZYqKp"
      },
      "source": [
        "<font color='red'>**Answer:**</font>"
      ]
    },
    {
      "cell_type": "markdown",
      "metadata": {
        "id": "apsnb8pugyGJ"
      },
      "source": [
        "## How long (in hours) did it take you to solve the homework?\n",
        "\n",
        "* Please answer as precisely as you can. It does not affect your points or grade. It is okay, if it took 0.5 hours or 24 hours or more. The collected information will be used to improve future homeworks.\n",
        "\n",
        "<font color='red'> **Answer:**</font>\n",
        "\n",
        "\n",
        "## How difficult is the homework?\n",
        "you can put only number between $0:10$ ($0:$ easy, $10:$ difficult)\n",
        "\n",
        "<font color='red'> **Answer:**</font>\n",
        "\n",
        "## Other comments you want to share?\n",
        "\n",
        "<font color='red'> **Answer:**</font>"
      ]
    },
    {
      "cell_type": "markdown",
      "metadata": {
        "id": "0o5ESJpDndUs"
      },
      "source": []
    }
  ],
  "metadata": {
    "colab": {
      "provenance": [],
      "include_colab_link": true
    },
    "kernelspec": {
      "display_name": "Python 3 (ipykernel)",
      "language": "python",
      "name": "python3"
    },
    "language_info": {
      "codemirror_mode": {
        "name": "ipython",
        "version": 3
      },
      "file_extension": ".py",
      "mimetype": "text/x-python",
      "name": "python",
      "nbconvert_exporter": "python",
      "pygments_lexer": "ipython3",
      "version": "3.9.7"
    }
  },
  "nbformat": 4,
  "nbformat_minor": 0
}